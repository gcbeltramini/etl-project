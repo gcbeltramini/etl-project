{
 "cells": [
  {
   "cell_type": "markdown",
   "metadata": {},
   "source": [
    "# Summary\n",
    "\n",
    "Read files with extension `sas7bdat`, adjust the data types and save in CSV format."
   ]
  },
  {
   "cell_type": "markdown",
   "metadata": {},
   "source": [
    "# Initialize"
   ]
  },
  {
   "cell_type": "code",
   "execution_count": 1,
   "metadata": {},
   "outputs": [],
   "source": [
    "# Libraries\n",
    "\n",
    "from glob import glob\n",
    "import logging\n",
    "import os\n",
    "from typing import Optional\n",
    "\n",
    "import pandas as pd"
   ]
  },
  {
   "cell_type": "code",
   "execution_count": 2,
   "metadata": {},
   "outputs": [],
   "source": [
    "# Constants\n",
    "DATA_PATH = os.path.join(os.environ['AIRFLOW_HOME'], 'resources', 'data')\n",
    "IMMIGRATION_DATA_PATH = os.path.join(DATA_PATH, '18-83510-I94-Data-2016')\n",
    "CSV_PATH = os.path.join(IMMIGRATION_DATA_PATH, 'csv')\n",
    "FORMAT = 'sas7bdat'\n",
    "\n",
    "# Create directory to save CSV files\n",
    "if not os.path.isdir(CSV_PATH):\n",
    "    os.mkdir(CSV_PATH)\n",
    "\n",
    "# Set logging\n",
    "logging.basicConfig(\n",
    "    format='%(asctime)s [%(levelname)s] %(message)s',\n",
    "    level=logging.INFO,\n",
    "    datefmt='%Y-%m-%d %H:%M:%S')\n",
    "logger = logging.getLogger()"
   ]
  },
  {
   "cell_type": "code",
   "execution_count": 3,
   "metadata": {},
   "outputs": [],
   "source": [
    "# Functions\n",
    "\n",
    "def sas_to_csv(sas_file: str, extension: str = FORMAT, csv_path: str = CSV_PATH\n",
    "              ) -> Optional[str]:\n",
    "    file_path, ext = os.path.splitext(sas_file)\n",
    "    file_folder, file_name = os.path.split(file_path)\n",
    "    if ext == f'.{FORMAT:s}':\n",
    "        return os.path.join(csv_path, f'{file_name}.csv')\n",
    "    else:\n",
    "        print(f'Invalid file name \"{sas_file}\"')"
   ]
  },
  {
   "cell_type": "code",
   "execution_count": 4,
   "metadata": {},
   "outputs": [],
   "source": [
    "# Schema\n",
    "\n",
    "# https://pandas.pydata.org/pandas-docs/stable/getting_started/basics.html#dtypes\n",
    "int_na = pd.Int64Dtype()\n",
    "str_na = pd.StringDtype()\n",
    "\n",
    "column_types = {\n",
    "    'cicid': int_na,\n",
    "    'i94yr': int_na,\n",
    "    'i94mon': int_na,\n",
    "    'i94cit': int_na,\n",
    "    'i94res': int_na,\n",
    "    'i94port': str_na,\n",
    "    'arrdate': int_na,\n",
    "    'i94mode': int_na,\n",
    "    'i94addr': str_na,\n",
    "    'depdate': int_na,\n",
    "    'i94bir': int_na,\n",
    "    'i94visa': int_na,\n",
    "    'count': int_na,\n",
    "    'dtadfile': str_na,  # data looks like int, but fails to convert\n",
    "    'visapost': str_na,\n",
    "    'occup': str_na,\n",
    "    'entdepa': str_na,\n",
    "    'entdepd': str_na,\n",
    "    'entdepu': str_na,\n",
    "    'matflag': str_na,\n",
    "    'biryear': int_na,\n",
    "    'dtaddto': str_na,\n",
    "    'gender': str_na,\n",
    "    'insnum': str_na,  # data looks like int, but fails to convert\n",
    "    'airline': str_na,\n",
    "    'admnum': int_na,\n",
    "    'fltno': str_na,\n",
    "    'visatype': str_na,\n",
    "}"
   ]
  },
  {
   "cell_type": "markdown",
   "metadata": {},
   "source": [
    "# SAS to CSV"
   ]
  },
  {
   "cell_type": "code",
   "execution_count": 5,
   "metadata": {},
   "outputs": [],
   "source": [
    "# Load one file to test\n",
    "\n",
    "# sas_file = os.path.join(IMMIGRATION_DATA_PATH, 'i94_jan16_sub.sas7bdat')\n",
    "# it = pd.read_sas(sas_file,\n",
    "#                  format=FORMAT,\n",
    "#                  encoding='ISO-8859-1',\n",
    "#                  chunksize=1000)\n",
    "# df = next(it)\n",
    "# df_types = df.astype(dtype=column_types)\n",
    "\n",
    "# df_types.to_csv(csv_file, index=False)"
   ]
  },
  {
   "cell_type": "code",
   "execution_count": null,
   "metadata": {},
   "outputs": [],
   "source": [
    "# ~2 min per file\n",
    "for sas_file in glob(os.path.join(IMMIGRATION_DATA_PATH, f'*.{FORMAT:s}')):\n",
    "    if os.path.split(sas_file)[1] != 'i94_jun16_sub.sas7bdat':\n",
    "        continue\n",
    "\n",
    "    logger.info(f'Loading \"{sas_file:s}\"...')\n",
    "    df = pd.concat(pd.read_sas(sas_file,\n",
    "                               format=FORMAT,\n",
    "                               encoding='ISO-8859-1',\n",
    "                               chunksize=200000))\n",
    "    logger.info('Done!')\n",
    "    if sorted(df.columns.tolist()) != sorted(list(column_types.keys())):\n",
    "        # \"i94_jun16_sub.sas7bdat\" has extra columns that are not documented:\n",
    "        # validres,delete_days,delete_mexl,delete_dup,delete_visa,delete_recdup\n",
    "        logger.error(f'Columns do not match columns in schema: {df.columns.tolist()}')\n",
    "        df = df.loc[:, column_types.keys()]\n",
    "    logger.info('Converting schema...')\n",
    "    df_types = df.astype(dtype=column_types)\n",
    "    logger.info('Done!')\n",
    "    csv_file = sas_to_csv(sas_file)\n",
    "    logger.info(f'Saving CSV file {csv_file:s}...')\n",
    "    df_types.to_csv(csv_file, index=False)\n",
    "    logger.info('Done!')"
   ]
  },
  {
   "cell_type": "markdown",
   "metadata": {},
   "source": [
    "# Inspect one of the DataFrames"
   ]
  },
  {
   "cell_type": "code",
   "execution_count": 7,
   "metadata": {},
   "outputs": [
    {
     "data": {
      "text/plain": [
       "(2570543, 28)"
      ]
     },
     "execution_count": 7,
     "metadata": {},
     "output_type": "execute_result"
    }
   ],
   "source": [
    "df.shape"
   ]
  },
  {
   "cell_type": "code",
   "execution_count": 8,
   "metadata": {},
   "outputs": [
    {
     "data": {
      "text/plain": [
       "cicid        20564344\n",
       "i94yr        20564344\n",
       "i94mon       20564344\n",
       "i94cit       20564344\n",
       "i94res       20564344\n",
       "i94port     154232580\n",
       "arrdate      20564344\n",
       "i94mode      20564344\n",
       "i94addr     147632162\n",
       "depdate      20564344\n",
       "i94bir       20564344\n",
       "i94visa      20564344\n",
       "count        20564344\n",
       "dtadfile    165747244\n",
       "visapost    111169476\n",
       "occup        82479164\n",
       "entdepa     149090922\n",
       "entdepd     141476146\n",
       "entdepu      82259014\n",
       "matflag     141476146\n",
       "biryear      20564344\n",
       "dtaddto     166828681\n",
       "gender      141403788\n",
       "insnum       86202688\n",
       "airline     149808563\n",
       "admnum       20564344\n",
       "fltno       158981610\n",
       "visatype    151772987\n",
       "dtype: int64"
      ]
     },
     "execution_count": 8,
     "metadata": {},
     "output_type": "execute_result"
    }
   ],
   "source": [
    "df_memory_usage = df.memory_usage(index=False, deep=True)\n",
    "df_memory_usage"
   ]
  },
  {
   "cell_type": "code",
   "execution_count": 9,
   "metadata": {},
   "outputs": [
    {
     "name": "stdout",
     "output_type": "stream",
     "text": [
      "Total memory usage (MB): 2297.897643\n",
      "Memory usage per row (kB): 0.8939347223524369\n"
     ]
    }
   ],
   "source": [
    "total = df_memory_usage.sum()\n",
    "print(f'Total memory usage (MB): {total/10**6}')\n",
    "print(f'Memory usage per row (kB): {total/10**3/df.shape[0]}')"
   ]
  },
  {
   "cell_type": "code",
   "execution_count": 10,
   "metadata": {},
   "outputs": [
    {
     "data": {
      "text/plain": [
       "cicid        23134887\n",
       "i94yr        23134887\n",
       "i94mon       23134887\n",
       "i94cit       23134887\n",
       "i94res       23134887\n",
       "i94port      20564344\n",
       "arrdate      23134887\n",
       "i94mode      23134887\n",
       "i94addr      20564344\n",
       "depdate      23134887\n",
       "i94bir       23134887\n",
       "i94visa      23134887\n",
       "count        23134887\n",
       "dtadfile    165747244\n",
       "visapost     20564344\n",
       "occup        20564344\n",
       "entdepa      20564344\n",
       "entdepd      20564344\n",
       "entdepu      20564344\n",
       "matflag      20564344\n",
       "biryear      23134887\n",
       "dtaddto      20564344\n",
       "gender       20564344\n",
       "insnum       86202688\n",
       "airline      20564344\n",
       "admnum       23134887\n",
       "fltno        20564344\n",
       "visatype     20564344\n",
       "dtype: int64"
      ]
     },
     "execution_count": 10,
     "metadata": {},
     "output_type": "execute_result"
    }
   ],
   "source": [
    "df_memory_usage_types = df_types.memory_usage(index=False, deep=True)\n",
    "df_memory_usage_types"
   ]
  },
  {
   "cell_type": "code",
   "execution_count": 11,
   "metadata": {},
   "outputs": [
    {
     "name": "stdout",
     "output_type": "stream",
     "text": [
      "With custom schema:\n",
      "Total memory usage (MB): 820.039935\n",
      "Memory usage per row (kB): 0.3190142841415219\n"
     ]
    }
   ],
   "source": [
    "# ~3 times more efficient with the custom schema\n",
    "\n",
    "total = df_memory_usage_types.sum()\n",
    "print('With custom schema:')\n",
    "print(f'Total memory usage (MB): {total/10**6}')\n",
    "print(f'Memory usage per row (kB): {total/10**3/df.shape[0]}')"
   ]
  }
 ],
 "metadata": {
  "kernelspec": {
   "display_name": "Python [conda env:etl]",
   "language": "python",
   "name": "conda-env-etl-py"
  },
  "language_info": {
   "codemirror_mode": {
    "name": "ipython",
    "version": 3
   },
   "file_extension": ".py",
   "mimetype": "text/x-python",
   "name": "python",
   "nbconvert_exporter": "python",
   "pygments_lexer": "ipython3",
   "version": "3.6.10"
  },
  "toc": {
   "base_numbering": 1,
   "nav_menu": {},
   "number_sections": true,
   "sideBar": true,
   "skip_h1_title": false,
   "title_cell": "Table of Contents",
   "title_sidebar": "Contents",
   "toc_cell": false,
   "toc_position": {},
   "toc_section_display": true,
   "toc_window_display": false
  },
  "varInspector": {
   "cols": {
    "lenName": 16,
    "lenType": 16,
    "lenVar": 40
   },
   "kernels_config": {
    "python": {
     "delete_cmd_postfix": "",
     "delete_cmd_prefix": "del ",
     "library": "var_list.py",
     "varRefreshCmd": "print(var_dic_list())"
    },
    "r": {
     "delete_cmd_postfix": ") ",
     "delete_cmd_prefix": "rm(",
     "library": "var_list.r",
     "varRefreshCmd": "cat(var_dic_list()) "
    }
   },
   "types_to_exclude": [
    "module",
    "function",
    "builtin_function_or_method",
    "instance",
    "_Feature"
   ],
   "window_display": false
  }
 },
 "nbformat": 4,
 "nbformat_minor": 4
}
